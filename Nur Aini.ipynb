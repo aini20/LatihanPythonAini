{
 "cells": [
  {
   "cell_type": "code",
   "execution_count": 1,
   "id": "1ed11fce-4340-4569-a937-c56ef643ef10",
   "metadata": {},
   "outputs": [],
   "source": [
    "import Bio"
   ]
  },
  {
   "cell_type": "code",
   "execution_count": 1,
   "id": "b914c2b3-2192-4bf2-9def-44aeef9b9c98",
   "metadata": {},
   "outputs": [
    {
     "name": "stdout",
     "output_type": "stream",
     "text": [
      "Hello Girl\n"
     ]
    }
   ],
   "source": [
    "print(\"Hello Girl\")"
   ]
  },
  {
   "cell_type": "code",
   "execution_count": 2,
   "id": "b9fb6310-f844-4c9a-9efc-e93470dae899",
   "metadata": {},
   "outputs": [
    {
     "name": "stdout",
     "output_type": "stream",
     "text": [
      "b'<?xml version=\"1.0\" encoding=\"UTF-8\" ?>\\n<!DOCTYPE eInfoResult PUBLIC \"-//NLM//DTD einfo 20190110//EN\" \"https://eutils.ncbi.nlm.nih.gov/eutils/dtd/20190110/einfo.dtd\">\\n<eInfoResult>\\n<DbList>\\n\\n\\t<DbName>pubmed</DbName>\\n\\t<DbName>protein</DbName>\\n\\t<DbName>nuccore</DbName>\\n\\t<DbName>ipg</DbName>\\n\\t<DbName>nucleotide</DbName>\\n\\t<DbName>structure</DbName>\\n\\t<DbName>genome</DbName>\\n\\t<DbName>annotinfo</DbName>\\n\\t<DbName>assembly</DbName>\\n\\t<DbName>bioproject</DbName>\\n\\t<DbName>biosample</DbName>\\n\\t<DbName>blastdbinfo</DbName>\\n\\t<DbName>books</DbName>\\n\\t<DbName>cdd</DbName>\\n\\t<DbName>clinvar</DbName>\\n\\t<DbName>gap</DbName>\\n\\t<DbName>gapplus</DbName>\\n\\t<DbName>grasp</DbName>\\n\\t<DbName>dbvar</DbName>\\n\\t<DbName>gene</DbName>\\n\\t<DbName>gds</DbName>\\n\\t<DbName>geoprofiles</DbName>\\n\\t<DbName>homologene</DbName>\\n\\t<DbName>medgen</DbName>\\n\\t<DbName>mesh</DbName>\\n\\t<DbName>ncbisearch</DbName>\\n\\t<DbName>nlmcatalog</DbName>\\n\\t<DbName>omim</DbName>\\n\\t<DbName>orgtrack</DbName>\\n\\t<DbName>pmc</DbName>\\n\\t<DbName>popset</DbName>\\n\\t<DbName>proteinclusters</DbName>\\n\\t<DbName>pcassay</DbName>\\n\\t<DbName>protfam</DbName>\\n\\t<DbName>biosystems</DbName>\\n\\t<DbName>pccompound</DbName>\\n\\t<DbName>pcsubstance</DbName>\\n\\t<DbName>seqannot</DbName>\\n\\t<DbName>snp</DbName>\\n\\t<DbName>sra</DbName>\\n\\t<DbName>taxonomy</DbName>\\n\\t<DbName>biocollections</DbName>\\n\\t<DbName>gtr</DbName>\\n</DbList>\\n\\n</eInfoResult>\\n'\n"
     ]
    }
   ],
   "source": [
    "#Code 1\n",
    "from Bio import Entrez\n",
    "Entrez.email = \"localuser@localhost.localdomain\" #Mandatory! Can be replaced with your personal email.\n",
    "\n",
    "#creating handle\n",
    "handle = Entrez.einfo() #invoking Bio.Entrez.einfo()\n",
    "print(handle.read())\n",
    "handle.close() #always close your handle after you finish\n"
   ]
  },
  {
   "cell_type": "code",
   "execution_count": 3,
   "id": "6fc1865d-2338-44f4-94d6-6ac895800649",
   "metadata": {},
   "outputs": [
    {
     "name": "stdout",
     "output_type": "stream",
     "text": [
      "{'Count': '2605596', 'RetMax': '20', 'RetStart': '0', 'IdList': ['2209604334', '2209592138', '2209258761', '2209258642', '2209258582', '2209258511', '1771468092', '1675017181', '1668018010', '1653961715', '1561237407', '1561237402', '1561237401', '1561237399', '1561237398', '1561237397', '1561237395', '1561237394', '1561237392', '1561237391'], 'TranslationSet': [{'From': 'Pseudomonas aeruginosa', 'To': '\"Pseudomonas aeruginosa\"[Organism] OR Pseudomonas aeruginosa[All Fields]'}], 'TranslationStack': [{'Term': '\"Pseudomonas aeruginosa\"[Organism]', 'Field': 'Organism', 'Count': '2537852', 'Explode': 'Y'}, {'Term': 'Pseudomonas aeruginosa[All Fields]', 'Field': 'All Fields', 'Count': '2605596', 'Explode': 'N'}, 'OR', 'GROUP'], 'QueryTranslation': '\"Pseudomonas aeruginosa\"[Organism] OR Pseudomonas aeruginosa[All Fields]'}\n"
     ]
    }
   ],
   "source": [
    "from Bio import Entrez\n",
    "Entrez.email = \"localuser@localhost.localdomain\" #Mandatory! Can be replaced with your personal email.\n",
    "\n",
    "#creating handle\n",
    "handle = Entrez.esearch(db=\"nucleotide\", term=\"Pseudomonas aeruginosa\")\n",
    "record = Entrez.read(handle)\n",
    "print(record)\n",
    "handle.close() #always close your handle after you finish\n"
   ]
  },
  {
   "cell_type": "code",
   "execution_count": 4,
   "id": "3b8cfd87-5bc3-4175-b8c5-0e4d2113e98a",
   "metadata": {},
   "outputs": [
    {
     "name": "stdout",
     "output_type": "stream",
     "text": [
      "{'Count': '11087', 'RetMax': '20', 'RetStart': '0', 'IdList': ['2209604334', '2209592138', '1561237218', '1561235514', '1561175242', '1561173691', '1561173325', '1561156261', '1561156063', '1561153841', '1561153028', '1561142354', '1561141251', '1561140636', '1561138316', '1553508345', '1344428461', '1344422209', '1344321484', '1344317576'], 'TranslationSet': [{'From': 'Pseudomonas aeruginosa', 'To': '\"Pseudomonas aeruginosa\"[Organism] OR Pseudomonas aeruginosa[All Fields]'}], 'TranslationStack': [{'Term': '\"Pseudomonas aeruginosa\"[Organism]', 'Field': 'Organism', 'Count': '2537852', 'Explode': 'Y'}, {'Term': 'Pseudomonas aeruginosa[All Fields]', 'Field': 'All Fields', 'Count': '2605596', 'Explode': 'N'}, 'OR', 'GROUP', {'Term': 'LasI[All Fields]', 'Field': 'All Fields', 'Count': '12045', 'Explode': 'N'}, 'AND', 'GROUP'], 'QueryTranslation': '(\"Pseudomonas aeruginosa\"[Organism] OR Pseudomonas aeruginosa[All Fields]) AND LasI[All Fields]'}\n"
     ]
    }
   ],
   "source": [
    "#Code 3\n",
    "from Bio import Entrez\n",
    "Entrez.email = \"localuser@localhost.localdomain\" #Mandatory! Can be replaced with your personal email.\n",
    "\n",
    "#creating handle\n",
    "handle = Entrez.esearch(db=\"nucleotide\", term=\"Pseudomonas aeruginosa LasI\")\n",
    "record = Entrez.read(handle)\n",
    "print(record)\n",
    "handle.close() #always close your handle after you finish\n"
   ]
  },
  {
   "cell_type": "code",
   "execution_count": 5,
   "id": "ac974b6b-8219-4b3f-a46b-564420b6f76d",
   "metadata": {},
   "outputs": [
    {
     "name": "stdout",
     "output_type": "stream",
     "text": [
      "LOCUS       KX173292                 606 bp    DNA     linear   BCT 08-AUG-2016\n",
      "DEFINITION  Pseudomonas aeruginosa strain PA1201 N-acyl-L-homoserine lactone\n",
      "            synthetase LasI (lasI) gene, complete cds.\n",
      "ACCESSION   KX173292\n",
      "VERSION     KX173292.1\n",
      "KEYWORDS    .\n",
      "SOURCE      Pseudomonas aeruginosa\n",
      "  ORGANISM  Pseudomonas aeruginosa\n",
      "            Bacteria; Proteobacteria; Gammaproteobacteria; Pseudomonadales;\n",
      "            Pseudomonadaceae; Pseudomonas.\n",
      "REFERENCE   1  (bases 1 to 606)\n",
      "  AUTHORS   Sun,S.S., Zhou,L.L., Jin,K.K., Jiang,H.H. and He,Y.Y.W.\n",
      "  TITLE     Quorum sensing systems differentially regulate the production of\n",
      "            phenazine-1-carboxylic acid in the rhizobacterium Pseudomonas\n",
      "            aeruginosa PA1201\n",
      "  JOURNAL   Sci Rep 6, 30352 (2016)\n",
      "   PUBMED   27456813\n",
      "  REMARK    Publication Status: Online-Only\n",
      "REFERENCE   2  (bases 1 to 606)\n",
      "  AUTHORS   Sun,S. and He,Y.-W.\n",
      "  TITLE     Direct Submission\n",
      "  JOURNAL   Submitted (02-MAY-2016) School of Life Sciences and Biotechnology,\n",
      "            Shanghai Jiao Tong University, 800 Dong Chuan Road, Shanghai,\n",
      "            Shanghai 200240, P.R. China\n",
      "COMMENT     ##Assembly-Data-START##\n",
      "            Sequencing Technology :: Sanger dideoxy sequencing\n",
      "            ##Assembly-Data-END##\n",
      "FEATURES             Location/Qualifiers\n",
      "     source          1..606\n",
      "                     /organism=\"Pseudomonas aeruginosa\"\n",
      "                     /mol_type=\"genomic DNA\"\n",
      "                     /strain=\"PA1201\"\n",
      "                     /isolation_source=\"rice rhizophere\"\n",
      "                     /db_xref=\"taxon:287\"\n",
      "                     /country=\"China\"\n",
      "     gene            1..606\n",
      "                     /gene=\"lasI\"\n",
      "     CDS             1..606\n",
      "                     /gene=\"lasI\"\n",
      "                     /codon_start=1\n",
      "                     /transl_table=11\n",
      "                     /product=\"N-acyl-L-homoserine lactone synthetase LasI\"\n",
      "                     /protein_id=\"ANY30805.1\"\n",
      "                     /translation=\"MIVQIGRREEFDKKLLGEMHKLRAQVFKERKGWDVSVIDEMEID\n",
      "                     GYDALSPYYMLIQEDTPEAQVFGCWRILDTTGPYMLKNTFPELLHGKEAPCSPHIWEL\n",
      "                     SRFAINSGQKGSLGFSDCTLEAMRALARYSLQNDIQTLVTVTTVGVEKMMIRAGLDVS\n",
      "                     RFGPHLKIGIERAVALRIELNAKTQIALYGGVLVEQRLAVS\"\n",
      "ORIGIN      \n",
      "        1 atgatcgtac aaattggtcg gcgcgaagag ttcgataaaa aactgctggg cgagatgcac\n",
      "       61 aagttgcgtg ctcaagtgtt caaggagcgc aaaggctggg acgttagtgt catcgacgag\n",
      "      121 atggaaatcg atggttatga cgcactcagt ccttattaca tgttgatcca ggaagatact\n",
      "      181 cctgaagccc aggttttcgg ttgctggcga attctcgata ccactggccc ctacatgctg\n",
      "      241 aagaacacct tcccggagct tctgcacggc aaggaagcgc cttgctcgcc gcacatctgg\n",
      "      301 gaactcagcc gtttcgccat caactctgga cagaaaggct cgctgggctt ttccgactgt\n",
      "      361 acgctggagg cgatgcgcgc gctggcccgc tacagcctgc agaacgacat ccagacgctg\n",
      "      421 gtgacggtaa ccaccgtagg ggtggagaag atgatgatcc gtgccggcct ggacgtatcg\n",
      "      481 cgcttcggtc cgcacctgaa gatcggcatc gagcgcgcgg tggccttgcg catcgaactc\n",
      "      541 aatgccaaga cccagatcgc gctttacggg ggagtgctgg tggaacagcg actggcggtt\n",
      "      601 tcatga\n",
      "//\n",
      "\n",
      "\n"
     ]
    }
   ],
   "source": [
    "#code 4\n",
    "from Bio import Entrez\n",
    "Entrez.email = \"localuser@localhost.localdomain\" #Mandatory! Can be replaced with your personal email.\n",
    "\n",
    "#creating EFetch handle\n",
    "efetch_handle = Entrez.efetch(db=\"nucleotide\", id=\"KX173292\", rettype=\"gb\", retmode=\"text\")\n",
    "gbrecord = efetch_handle.read()\n",
    "print(gbrecord)\n"
   ]
  },
  {
   "cell_type": "code",
   "execution_count": 6,
   "id": "d527e9ca-9d9e-48c9-b8d6-4179c91495f6",
   "metadata": {},
   "outputs": [
    {
     "name": "stdout",
     "output_type": "stream",
     "text": [
      ">KX173292.1 Pseudomonas aeruginosa strain PA1201 N-acyl-L-homoserine lactone synthetase LasI (lasI) gene, complete cds\n",
      "ATGATCGTACAAATTGGTCGGCGCGAAGAGTTCGATAAAAAACTGCTGGGCGAGATGCACAAGTTGCGTG\n",
      "CTCAAGTGTTCAAGGAGCGCAAAGGCTGGGACGTTAGTGTCATCGACGAGATGGAAATCGATGGTTATGA\n",
      "CGCACTCAGTCCTTATTACATGTTGATCCAGGAAGATACTCCTGAAGCCCAGGTTTTCGGTTGCTGGCGA\n",
      "ATTCTCGATACCACTGGCCCCTACATGCTGAAGAACACCTTCCCGGAGCTTCTGCACGGCAAGGAAGCGC\n",
      "CTTGCTCGCCGCACATCTGGGAACTCAGCCGTTTCGCCATCAACTCTGGACAGAAAGGCTCGCTGGGCTT\n",
      "TTCCGACTGTACGCTGGAGGCGATGCGCGCGCTGGCCCGCTACAGCCTGCAGAACGACATCCAGACGCTG\n",
      "GTGACGGTAACCACCGTAGGGGTGGAGAAGATGATGATCCGTGCCGGCCTGGACGTATCGCGCTTCGGTC\n",
      "CGCACCTGAAGATCGGCATCGAGCGCGCGGTGGCCTTGCGCATCGAACTCAATGCCAAGACCCAGATCGC\n",
      "GCTTTACGGGGGAGTGCTGGTGGAACAGCGACTGGCGGTTTCATGA\n",
      "\n",
      "\n"
     ]
    }
   ],
   "source": [
    "#code 5\n",
    "from Bio import Entrez\n",
    "Entrez.email = \"localuser@localhost.localdomain\" #Mandatory! Can be replaced with your personal email.\n",
    "\n",
    "#creating EFetch handle\n",
    "efetch_handle = Entrez.efetch(db=\"nucleotide\", id=\"KX173292\", rettype=\"fasta\", retmode=\"text\")\n",
    "fasta_record = efetch_handle.read()\n",
    "print(fasta_record)\n",
    "efetch_handle.close() #always close your handle after you finish\n"
   ]
  },
  {
   "cell_type": "code",
   "execution_count": 8,
   "id": "5a91a8cf-30f3-437a-b4df-b6bbd1208bc9",
   "metadata": {},
   "outputs": [
    {
     "name": "stdout",
     "output_type": "stream",
     "text": [
      "LasIPaeruginosa.gbk Saved\n"
     ]
    }
   ],
   "source": [
    "#code 6\n",
    "import os # import os module for OS utilities\n",
    "from Bio import Entrez\n",
    "Entrez.email = \"localuser@localhost.localdomain\" #Mandatory! Can be replaced with your personal email.\n",
    "\n",
    "#creating EFetch handle\n",
    "filename = \"LasIPaeruginosa.gbk\" #up to you, but Genbank files always use *.gb or *.gbk \n",
    "\n",
    "#creating EFetch handle\n",
    "if not os.path.isfile(filename):\n",
    "    # Downloading file...\n",
    "    efetch_handle = Entrez.efetch(db=\"nucleotide\", id=\"KX173292\", rettype=\"gb\", retmode=\"text\")\n",
    "    output_file_handle = open(filename, \"w\")\n",
    "    output_file_handle.write(efetch_handle.read())\n",
    "    output_file_handle.close()\n",
    "    efetch_handle.close()\n",
    "    print((str(filename)) + \" Saved\")\n",
    "else:\n",
    "    print((str(filename)) + \" is existing. File cannot be saved!\")"
   ]
  },
  {
   "cell_type": "code",
   "execution_count": 9,
   "id": "75a98ddc-7149-4edb-8e5e-f4efbd2dd7ec",
   "metadata": {
    "tags": []
   },
   "outputs": [
    {
     "name": "stdout",
     "output_type": "stream",
     "text": [
      "LasIPaeruginosa.fasta Saved\n"
     ]
    }
   ],
   "source": [
    "#Code 7\n",
    "import os # import os module for OS utilities\n",
    "from Bio import Entrez\n",
    "Entrez.email = \"localuser@localhost.localdomain\" #Mandatory! Can be replaced with your personal email.\n",
    "\n",
    "#creating EFetch handle\n",
    "filename = \"LasIPaeruginosa.fasta\" #up to you, but FASTA files always use *.fasta or *.fas \n",
    "\n",
    "#creating EFetch handle\n",
    "if not os.path.isfile(filename):\n",
    "    # Downloading file...\n",
    "    efetch_handle = Entrez.efetch(db=\"nucleotide\", id=\"KX173292\", rettype=\"fasta\", retmode=\"text\")\n",
    "    output_file_handle = open(filename, \"w\")\n",
    "    output_file_handle.write(efetch_handle.read())\n",
    "    output_file_handle.close()\n",
    "    efetch_handle.close()\n",
    "    print((str(filename)) + \" Saved\")\n",
    "else:\n",
    "    print((str(filename)) + \" is existing. File cannot be saved!\")"
   ]
  },
  {
   "cell_type": "code",
   "execution_count": 7,
   "id": "b57594a7-dff4-4c73-a684-a09531611660",
   "metadata": {},
   "outputs": [
    {
     "name": "stdout",
     "output_type": "stream",
     "text": [
      "Paeruginosa.gbk Saved\n"
     ]
    }
   ],
   "source": [
    "#Code 8\n",
    "import os # import os module for OS utilities\n",
    "from Bio import Entrez, SeqIO\n",
    "Entrez.email = \"localuser@localhost.localdomain\" #Mandatory! Can be replaced with your personal email.\n",
    "\n",
    "#creating EFetch handle\n",
    "filename = \"Paeruginosa.gbk\" #up to you, but Genbank files always use *.gb or *.gbk \n",
    "\n",
    "#creating EFetch handle\n",
    "if not os.path.isfile(filename):\n",
    "    # Downloading file...\n",
    "    efetch_handle = Entrez.efetch(db=\"nucleotide\", id=\"KX173292\", rettype=\"gb\", retmode=\"text\")\n",
    "    output_file_handle = open(filename, \"w\")\n",
    "    output_file_handle.write(efetch_handle.read())\n",
    "    output_file_handle.close()\n",
    "    efetch_handle.close()\n",
    "    print((str(filename)) + \" Saved\")\n",
    "else:\n",
    "    print((str(filename)) + \" is existing. File cannot be saved!\")"
   ]
  },
  {
   "cell_type": "code",
   "execution_count": 8,
   "id": "db5cd4f1-9c12-4cb6-bce2-9b3e620724f8",
   "metadata": {},
   "outputs": [
    {
     "name": "stdout",
     "output_type": "stream",
     "text": [
      ">lasI|Pseudomonas aeruginosa strain PA1201 N-acyl-L-homoserine lactone synthetase LasI (lasI) gene, complete cds\n",
      "ATGATCGTACAAATTGGTCGGCGCGAAGAGTTCGATAAAAAACTGCTGGGCGAGATGCACAAGTTGCGTGCTCAAGTGTTCAAGGAGCGCAAAGGCTGGGACGTTAGTGTCATCGACGAGATGGAAATCGATGGTTATGACGCACTCAGTCCTTATTACATGTTGATCCAGGAAGATACTCCTGAAGCCCAGGTTTTCGGTTGCTGGCGAATTCTCGATACCACTGGCCCCTACATGCTGAAGAACACCTTCCCGGAGCTTCTGCACGGCAAGGAAGCGCCTTGCTCGCCGCACATCTGGGAACTCAGCCGTTTCGCCATCAACTCTGGACAGAAAGGCTCGCTGGGCTTTTCCGACTGTACGCTGGAGGCGATGCGCGCGCTGGCCCGCTACAGCCTGCAGAACGACATCCAGACGCTGGTGACGGTAACCACCGTAGGGGTGGAGAAGATGATGATCCGTGCCGGCCTGGACGTATCGCGCTTCGGTCCGCACCTGAAGATCGGCATCGAGCGCGCGGTGGCCTTGCGCATCGAACTCAATGCCAAGACCCAGATCGCGCTTTACGGGGGAGTGCTGGTGGAACAGCGACTGGCGGTTTCATGA\n"
     ]
    }
   ],
   "source": [
    "#Code 8 (continued)\n",
    "\n",
    "GoI = \"lasI\" #change \" rbcL\" here with your GoI\n",
    "\n",
    "for genome in SeqIO.parse(\"Paeruginosa.gbk\",\"genbank\"):\n",
    "    for gene in genome.features:\n",
    "        if gene.type != \"CDS\":\n",
    "            continue\n",
    "        if \"gene\" not in gene.qualifiers:\n",
    "            continue\n",
    "        if GoI not in gene.qualifiers[\"gene\"][0]: \n",
    "            continue\n",
    "        gene_seq = gene.extract(genome.seq)\n",
    "\n",
    "GoI_fasta = \">%s|%s\\n%s\" % (GoI, genome.description, gene_seq)\n",
    "print(GoI_fasta)"
   ]
  },
  {
   "cell_type": "code",
   "execution_count": 11,
   "id": "27245ac9-18d2-4d34-9f16-64c3c1f91cb4",
   "metadata": {},
   "outputs": [
    {
     "name": "stdout",
     "output_type": "stream",
     "text": [
      "saved\n"
     ]
    }
   ],
   "source": [
    "#Code 9 \n",
    "\n",
    "GoI = \"lasI\" #change \" rbcL\" here with your GoI\n",
    "\n",
    "for genome in SeqIO.parse(\"Paeruginosa.gbk\",\"genbank\"):\n",
    "    for gene in genome.features:\n",
    "        if gene.type != \"CDS\":\n",
    "            continue\n",
    "        if \"gene\" not in gene.qualifiers:\n",
    "            continue\n",
    "        if GoI not in gene.qualifiers[\"gene\"][0]: \n",
    "            continue\n",
    "        gene_seq = gene.extract(genome.seq)\n",
    "\n",
    "GoI_fasta = \">%s|%s\\n%s\" % (GoI, genome.description, gene_seq)\n",
    "with open(\"GoI_fasta.fasta\",\"w\") as f:\n",
    "    f.write(GoI_fasta)\n",
    "print(\"saved\")"
   ]
  },
  {
   "cell_type": "code",
   "execution_count": null,
   "id": "4b17329e-1943-459a-8e66-83b56c13d23d",
   "metadata": {},
   "outputs": [],
   "source": []
  }
 ],
 "metadata": {
  "kernelspec": {
   "display_name": "Python 3 (ipykernel)",
   "language": "python",
   "name": "python3"
  },
  "language_info": {
   "codemirror_mode": {
    "name": "ipython",
    "version": 3
   },
   "file_extension": ".py",
   "mimetype": "text/x-python",
   "name": "python",
   "nbconvert_exporter": "python",
   "pygments_lexer": "ipython3",
   "version": "3.9.7"
  }
 },
 "nbformat": 4,
 "nbformat_minor": 5
}
